{
  "cells": [
    {
      "cell_type": "markdown",
      "source": [
        "# Pandas\n",
        "\n",
        "This section is all about the package, Pandas. Are you ready? Let's go!\n",
        "\n",
        "You will find some small tasks in sections below. Most codes are hidden and you can only see the output.\n",
        "\n",
        "> Try to figure out by yourself, or search for references. Being able to search and find information needed is an important skill that benefits you and your career for a long time.\n",
        "\n",
        "\n",
        "\n"
      ],
      "metadata": {
        "id": "2CdaJd-rP6b8",
        "cell_id": "90a515d3ef2642a1b7efee3407fdfe78",
        "deepnote_cell_height": 555,
        "deepnote_app_coordinates": {
          "h": 5,
          "w": 12,
          "x": 0,
          "y": 403
        },
        "deepnote_cell_type": "markdown"
      }
    },
    {
      "cell_type": "markdown",
      "source": [
        "## Set up the environment"
      ],
      "metadata": {
        "id": "dRFhi328P6b_",
        "cell_id": "f4372d9d4687432a9a0781ce6eda75c9",
        "deepnote_cell_height": 69.59375,
        "deepnote_app_coordinates": {
          "h": 5,
          "w": 12,
          "x": 0,
          "y": 409
        },
        "deepnote_cell_type": "markdown"
      }
    },
    {
      "cell_type": "markdown",
      "source": [
        "### Task: import pandas, and name it as pd"
      ],
      "metadata": {
        "id": "PIQ3RexLP6b_",
        "cell_id": "334e46977b974454860c8497269b09f0",
        "deepnote_cell_height": 61.59375,
        "deepnote_app_coordinates": {
          "h": 5,
          "w": 12,
          "x": 0,
          "y": 415
        },
        "deepnote_cell_type": "markdown"
      }
    },
    {
      "cell_type": "code",
      "source": [
        "import pandas as pd"
      ],
      "metadata": {
        "id": "n7qiruks8HZ5",
        "cell_id": "7e593ace6bbd4af8afce1d81e32baacc",
        "source_hash": "9b82ee11",
        "execution_start": 1664740594982,
        "execution_millis": 1,
        "deepnote_app_coordinates": {
          "h": 5,
          "w": 12,
          "x": 0,
          "y": 421
        },
        "deepnote_to_be_reexecuted": false,
        "deepnote_app_is_code_hidden": true,
        "deepnote_cell_type": "code"
      },
      "outputs": [],
      "execution_count": null
    },
    {
      "cell_type": "markdown",
      "source": [
        "## Data Creation"
      ],
      "metadata": {
        "id": "Bdt8FDD1i7nb",
        "cell_id": "ad1a329e9eed45cab92a509df41ecf97",
        "deepnote_cell_height": 69.59375,
        "deepnote_app_coordinates": {
          "h": 5,
          "w": 12,
          "x": 0,
          "y": 427
        },
        "deepnote_cell_type": "markdown"
      }
    },
    {
      "cell_type": "markdown",
      "source": [
        "### Task\n",
        "Find the data [here](https://en.wikipedia.org/wiki/List_of_countries_by_GDP_(nominal)) for the GDP (nomial). For the top **10** countries, create a dataframe that has the names of country, the GDP of the country in 2021 (reported in 2022) by IMF in dollars , the population of the country (you can find the data [here](https://en.wikipedia.org/wiki/List_of_countries_and_dependencies_by_population))"
      ],
      "metadata": {
        "id": "-epzW0mCpkX_",
        "cell_id": "975cf5c79b1045399d05bf0bb4b43545",
        "deepnote_cell_height": 144.796875,
        "deepnote_app_coordinates": {
          "h": 5,
          "w": 12,
          "x": 0,
          "y": 433
        },
        "deepnote_cell_type": "markdown"
      }
    },
    {
      "cell_type": "code",
      "source": [
        "df = pd.DataFrame({'Country':['United States', 'China', 'Japan', 'Germany', 'India', 'United Kingdom', 'France', 'Canada', 'Italy', 'Brazil'],\n",
        "                   'GDP': [25346805, 19911593, 4912147, 4256540, 3534743, 3376003, 2936702, 2221218, 2058330, 1833274],\n",
        "                   'Population':[332943701, 1425881285, 125502000, 83695430, 1417945080, 67081234, 67874000, 38856839, 58906742, 214956683]})"
      ],
      "metadata": {
        "id": "kPp9TBksKbRb",
        "cell_id": "301b5c5e805e4108998b7a12512fe6bd",
        "source_hash": "3b4e8dca",
        "execution_start": 1664740594983,
        "execution_millis": 0,
        "deepnote_app_coordinates": {
          "h": 5,
          "w": 12,
          "x": 0,
          "y": 439
        },
        "deepnote_to_be_reexecuted": false,
        "deepnote_app_is_code_hidden": true,
        "deepnote_cell_type": "code"
      },
      "outputs": [],
      "execution_count": null
    },
    {
      "cell_type": "code",
      "source": [
        "df"
      ],
      "metadata": {
        "id": "37swxt9UM1DJ",
        "cell_id": "bfec120b1f134c0e85efa20ec180da34",
        "source_hash": "f804c160",
        "execution_start": 1664740594987,
        "execution_millis": 12,
        "deepnote_app_coordinates": {
          "h": 5,
          "w": 12,
          "x": 0,
          "y": 445
        },
        "deepnote_to_be_reexecuted": false,
        "deepnote_app_is_code_hidden": false,
        "deepnote_cell_type": "code",
        "outputId": "6309dde0-496e-4b08-a4ce-a395cd55d92c"
      },
      "outputs": [
        {
          "output_type": "execute_result",
          "execution_count": 34,
          "data": {
            "application/vnd.deepnote.dataframe.v3+json": {
              "column_count": 3,
              "row_count": 10,
              "columns": [
                {
                  "name": "Country",
                  "dtype": "object",
                  "stats": {
                    "unique_count": 10,
                    "nan_count": 0,
                    "categories": [
                      {
                        "name": "United States",
                        "count": 1
                      },
                      {
                        "name": "China",
                        "count": 1
                      },
                      {
                        "name": "8 others",
                        "count": 8
                      }
                    ]
                  }
                },
                {
                  "name": "GDP",
                  "dtype": "int64",
                  "stats": {
                    "unique_count": 10,
                    "nan_count": 0,
                    "min": "1833274",
                    "max": "25346805",
                    "histogram": [
                      {
                        "bin_start": 1833274,
                        "bin_end": 4184627.1,
                        "count": 6
                      },
                      {
                        "bin_start": 4184627.1,
                        "bin_end": 6535980.2,
                        "count": 2
                      },
                      {
                        "bin_start": 6535980.2,
                        "bin_end": 8887333.3,
                        "count": 0
                      },
                      {
                        "bin_start": 8887333.3,
                        "bin_end": 11238686.4,
                        "count": 0
                      },
                      {
                        "bin_start": 11238686.4,
                        "bin_end": 13590039.5,
                        "count": 0
                      },
                      {
                        "bin_start": 13590039.5,
                        "bin_end": 15941392.600000001,
                        "count": 0
                      },
                      {
                        "bin_start": 15941392.600000001,
                        "bin_end": 18292745.700000003,
                        "count": 0
                      },
                      {
                        "bin_start": 18292745.700000003,
                        "bin_end": 20644098.8,
                        "count": 1
                      },
                      {
                        "bin_start": 20644098.8,
                        "bin_end": 22995451.900000002,
                        "count": 0
                      },
                      {
                        "bin_start": 22995451.900000002,
                        "bin_end": 25346805,
                        "count": 1
                      }
                    ]
                  }
                },
                {
                  "name": "Population",
                  "dtype": "int64",
                  "stats": {
                    "unique_count": 10,
                    "nan_count": 0,
                    "min": "38856839",
                    "max": "1425881285",
                    "histogram": [
                      {
                        "bin_start": 38856839,
                        "bin_end": 177559283.6,
                        "count": 6
                      },
                      {
                        "bin_start": 177559283.6,
                        "bin_end": 316261728.2,
                        "count": 1
                      },
                      {
                        "bin_start": 316261728.2,
                        "bin_end": 454964172.79999995,
                        "count": 1
                      },
                      {
                        "bin_start": 454964172.79999995,
                        "bin_end": 593666617.4,
                        "count": 0
                      },
                      {
                        "bin_start": 593666617.4,
                        "bin_end": 732369062,
                        "count": 0
                      },
                      {
                        "bin_start": 732369062,
                        "bin_end": 871071506.5999999,
                        "count": 0
                      },
                      {
                        "bin_start": 871071506.5999999,
                        "bin_end": 1009773951.1999999,
                        "count": 0
                      },
                      {
                        "bin_start": 1009773951.1999999,
                        "bin_end": 1148476395.8,
                        "count": 0
                      },
                      {
                        "bin_start": 1148476395.8,
                        "bin_end": 1287178840.3999999,
                        "count": 0
                      },
                      {
                        "bin_start": 1287178840.3999999,
                        "bin_end": 1425881285,
                        "count": 2
                      }
                    ]
                  }
                },
                {
                  "name": "_deepnote_index_column",
                  "dtype": "int64"
                }
              ],
              "rows": [
                {
                  "Country": "United States",
                  "GDP": "25346805",
                  "Population": "332943701",
                  "_deepnote_index_column": "0"
                },
                {
                  "Country": "China",
                  "GDP": "19911593",
                  "Population": "1425881285",
                  "_deepnote_index_column": "1"
                },
                {
                  "Country": "Japan",
                  "GDP": "4912147",
                  "Population": "125502000",
                  "_deepnote_index_column": "2"
                },
                {
                  "Country": "Germany",
                  "GDP": "4256540",
                  "Population": "83695430",
                  "_deepnote_index_column": "3"
                },
                {
                  "Country": "India",
                  "GDP": "3534743",
                  "Population": "1417945080",
                  "_deepnote_index_column": "4"
                },
                {
                  "Country": "United Kingdom",
                  "GDP": "3376003",
                  "Population": "67081234",
                  "_deepnote_index_column": "5"
                },
                {
                  "Country": "France",
                  "GDP": "2936702",
                  "Population": "67874000",
                  "_deepnote_index_column": "6"
                },
                {
                  "Country": "Canada",
                  "GDP": "2221218",
                  "Population": "38856839",
                  "_deepnote_index_column": "7"
                },
                {
                  "Country": "Italy",
                  "GDP": "2058330",
                  "Population": "58906742",
                  "_deepnote_index_column": "8"
                },
                {
                  "Country": "Brazil",
                  "GDP": "1833274",
                  "Population": "214956683",
                  "_deepnote_index_column": "9"
                }
              ]
            },
            "text/plain": "          Country       GDP  Population\n0   United States  25346805   332943701\n1           China  19911593  1425881285\n2           Japan   4912147   125502000\n3         Germany   4256540    83695430\n4           India   3534743  1417945080\n5  United Kingdom   3376003    67081234\n6          France   2936702    67874000\n7          Canada   2221218    38856839\n8           Italy   2058330    58906742\n9          Brazil   1833274   214956683",
            "text/html": "<div>\n<style scoped>\n    .dataframe tbody tr th:only-of-type {\n        vertical-align: middle;\n    }\n\n    .dataframe tbody tr th {\n        vertical-align: top;\n    }\n\n    .dataframe thead th {\n        text-align: right;\n    }\n</style>\n<table border=\"1\" class=\"dataframe\">\n  <thead>\n    <tr style=\"text-align: right;\">\n      <th></th>\n      <th>Country</th>\n      <th>GDP</th>\n      <th>Population</th>\n    </tr>\n  </thead>\n  <tbody>\n    <tr>\n      <th>0</th>\n      <td>United States</td>\n      <td>25346805</td>\n      <td>332943701</td>\n    </tr>\n    <tr>\n      <th>1</th>\n      <td>China</td>\n      <td>19911593</td>\n      <td>1425881285</td>\n    </tr>\n    <tr>\n      <th>2</th>\n      <td>Japan</td>\n      <td>4912147</td>\n      <td>125502000</td>\n    </tr>\n    <tr>\n      <th>3</th>\n      <td>Germany</td>\n      <td>4256540</td>\n      <td>83695430</td>\n    </tr>\n    <tr>\n      <th>4</th>\n      <td>India</td>\n      <td>3534743</td>\n      <td>1417945080</td>\n    </tr>\n    <tr>\n      <th>5</th>\n      <td>United Kingdom</td>\n      <td>3376003</td>\n      <td>67081234</td>\n    </tr>\n    <tr>\n      <th>6</th>\n      <td>France</td>\n      <td>2936702</td>\n      <td>67874000</td>\n    </tr>\n    <tr>\n      <th>7</th>\n      <td>Canada</td>\n      <td>2221218</td>\n      <td>38856839</td>\n    </tr>\n    <tr>\n      <th>8</th>\n      <td>Italy</td>\n      <td>2058330</td>\n      <td>58906742</td>\n    </tr>\n    <tr>\n      <th>9</th>\n      <td>Brazil</td>\n      <td>1833274</td>\n      <td>214956683</td>\n    </tr>\n  </tbody>\n</table>\n</div>"
          },
          "metadata": {}
        }
      ],
      "execution_count": null
    },
    {
      "cell_type": "code",
      "source": [
        "df.info()"
      ],
      "metadata": {
        "id": "_GAZ4AmpNokc",
        "cell_id": "13609c4533464383b58129a2df703982",
        "source_hash": "de1e323c",
        "execution_start": 1664740595043,
        "execution_millis": 2,
        "deepnote_app_coordinates": {
          "h": 5,
          "w": 12,
          "x": 0,
          "y": 451
        },
        "deepnote_to_be_reexecuted": false,
        "deepnote_app_is_code_hidden": false,
        "deepnote_cell_type": "code",
        "outputId": "ab38ce3a-2285-4316-877f-c517ade35ab7"
      },
      "outputs": [
        {
          "name": "stdout",
          "text": "<class 'pandas.core.frame.DataFrame'>\nRangeIndex: 10 entries, 0 to 9\nData columns (total 3 columns):\n #   Column      Non-Null Count  Dtype \n---  ------      --------------  ----- \n 0   Country     10 non-null     object\n 1   GDP         10 non-null     int64 \n 2   Population  10 non-null     int64 \ndtypes: int64(2), object(1)\nmemory usage: 368.0+ bytes\n",
          "output_type": "stream"
        }
      ],
      "execution_count": null
    },
    {
      "cell_type": "markdown",
      "source": [
        "## Data Accessing"
      ],
      "metadata": {
        "id": "EyLQMJhzinAJ",
        "cell_id": "f4f017cd73cd4186a711b11fb1548f39",
        "deepnote_cell_height": 69.59375,
        "deepnote_app_coordinates": {
          "h": 5,
          "w": 12,
          "x": 0,
          "y": 457
        },
        "deepnote_cell_type": "markdown"
      }
    },
    {
      "cell_type": "markdown",
      "source": [
        "### Task: List the countries and their GDP"
      ],
      "metadata": {
        "id": "SFohyeFoP6cE",
        "cell_id": "116161d9478d4e648e15c6ce245bfa38",
        "deepnote_cell_height": 61.59375,
        "deepnote_app_coordinates": {
          "h": 5,
          "w": 12,
          "x": 0,
          "y": 463
        },
        "deepnote_cell_type": "markdown"
      }
    },
    {
      "cell_type": "code",
      "source": [
        "df[['Country', 'GDP']]"
      ],
      "metadata": {
        "id": "VZhO_7DyP6cE",
        "cell_id": "daa2c1a518dd4a26b0424dbe4b640a90",
        "source_hash": "2068454e",
        "execution_start": 1664740595043,
        "execution_millis": 3,
        "deepnote_app_coordinates": {
          "h": 5,
          "w": 12,
          "x": 0,
          "y": 469
        },
        "deepnote_to_be_reexecuted": false,
        "deepnote_app_is_code_hidden": true,
        "deepnote_cell_type": "code",
        "outputId": "d78a4119-57cb-4923-9c43-514c4bd1c25d"
      },
      "outputs": [
        {
          "output_type": "execute_result",
          "execution_count": 36,
          "data": {
            "application/vnd.deepnote.dataframe.v3+json": {
              "column_count": 2,
              "row_count": 10,
              "columns": [
                {
                  "name": "Country",
                  "dtype": "object",
                  "stats": {
                    "unique_count": 10,
                    "nan_count": 0,
                    "categories": [
                      {
                        "name": "United States",
                        "count": 1
                      },
                      {
                        "name": "China",
                        "count": 1
                      },
                      {
                        "name": "8 others",
                        "count": 8
                      }
                    ]
                  }
                },
                {
                  "name": "GDP",
                  "dtype": "int64",
                  "stats": {
                    "unique_count": 10,
                    "nan_count": 0,
                    "min": "1833274",
                    "max": "25346805",
                    "histogram": [
                      {
                        "bin_start": 1833274,
                        "bin_end": 4184627.1,
                        "count": 6
                      },
                      {
                        "bin_start": 4184627.1,
                        "bin_end": 6535980.2,
                        "count": 2
                      },
                      {
                        "bin_start": 6535980.2,
                        "bin_end": 8887333.3,
                        "count": 0
                      },
                      {
                        "bin_start": 8887333.3,
                        "bin_end": 11238686.4,
                        "count": 0
                      },
                      {
                        "bin_start": 11238686.4,
                        "bin_end": 13590039.5,
                        "count": 0
                      },
                      {
                        "bin_start": 13590039.5,
                        "bin_end": 15941392.600000001,
                        "count": 0
                      },
                      {
                        "bin_start": 15941392.600000001,
                        "bin_end": 18292745.700000003,
                        "count": 0
                      },
                      {
                        "bin_start": 18292745.700000003,
                        "bin_end": 20644098.8,
                        "count": 1
                      },
                      {
                        "bin_start": 20644098.8,
                        "bin_end": 22995451.900000002,
                        "count": 0
                      },
                      {
                        "bin_start": 22995451.900000002,
                        "bin_end": 25346805,
                        "count": 1
                      }
                    ]
                  }
                },
                {
                  "name": "_deepnote_index_column",
                  "dtype": "int64"
                }
              ],
              "rows": [
                {
                  "Country": "United States",
                  "GDP": "25346805",
                  "_deepnote_index_column": "0"
                },
                {
                  "Country": "China",
                  "GDP": "19911593",
                  "_deepnote_index_column": "1"
                },
                {
                  "Country": "Japan",
                  "GDP": "4912147",
                  "_deepnote_index_column": "2"
                },
                {
                  "Country": "Germany",
                  "GDP": "4256540",
                  "_deepnote_index_column": "3"
                },
                {
                  "Country": "India",
                  "GDP": "3534743",
                  "_deepnote_index_column": "4"
                },
                {
                  "Country": "United Kingdom",
                  "GDP": "3376003",
                  "_deepnote_index_column": "5"
                },
                {
                  "Country": "France",
                  "GDP": "2936702",
                  "_deepnote_index_column": "6"
                },
                {
                  "Country": "Canada",
                  "GDP": "2221218",
                  "_deepnote_index_column": "7"
                },
                {
                  "Country": "Italy",
                  "GDP": "2058330",
                  "_deepnote_index_column": "8"
                },
                {
                  "Country": "Brazil",
                  "GDP": "1833274",
                  "_deepnote_index_column": "9"
                }
              ]
            },
            "text/plain": "          Country       GDP\n0   United States  25346805\n1           China  19911593\n2           Japan   4912147\n3         Germany   4256540\n4           India   3534743\n5  United Kingdom   3376003\n6          France   2936702\n7          Canada   2221218\n8           Italy   2058330\n9          Brazil   1833274",
            "text/html": "<div>\n<style scoped>\n    .dataframe tbody tr th:only-of-type {\n        vertical-align: middle;\n    }\n\n    .dataframe tbody tr th {\n        vertical-align: top;\n    }\n\n    .dataframe thead th {\n        text-align: right;\n    }\n</style>\n<table border=\"1\" class=\"dataframe\">\n  <thead>\n    <tr style=\"text-align: right;\">\n      <th></th>\n      <th>Country</th>\n      <th>GDP</th>\n    </tr>\n  </thead>\n  <tbody>\n    <tr>\n      <th>0</th>\n      <td>United States</td>\n      <td>25346805</td>\n    </tr>\n    <tr>\n      <th>1</th>\n      <td>China</td>\n      <td>19911593</td>\n    </tr>\n    <tr>\n      <th>2</th>\n      <td>Japan</td>\n      <td>4912147</td>\n    </tr>\n    <tr>\n      <th>3</th>\n      <td>Germany</td>\n      <td>4256540</td>\n    </tr>\n    <tr>\n      <th>4</th>\n      <td>India</td>\n      <td>3534743</td>\n    </tr>\n    <tr>\n      <th>5</th>\n      <td>United Kingdom</td>\n      <td>3376003</td>\n    </tr>\n    <tr>\n      <th>6</th>\n      <td>France</td>\n      <td>2936702</td>\n    </tr>\n    <tr>\n      <th>7</th>\n      <td>Canada</td>\n      <td>2221218</td>\n    </tr>\n    <tr>\n      <th>8</th>\n      <td>Italy</td>\n      <td>2058330</td>\n    </tr>\n    <tr>\n      <th>9</th>\n      <td>Brazil</td>\n      <td>1833274</td>\n    </tr>\n  </tbody>\n</table>\n</div>"
          },
          "metadata": {}
        }
      ],
      "execution_count": null
    },
    {
      "cell_type": "markdown",
      "source": [
        "### Task: List the countries and their population"
      ],
      "metadata": {
        "id": "2eMRijxEP6cE",
        "cell_id": "a7fe395b463542e2850e672364b176e0",
        "deepnote_cell_height": 61.59375,
        "deepnote_app_coordinates": {
          "h": 5,
          "w": 12,
          "x": 0,
          "y": 475
        },
        "deepnote_cell_type": "markdown"
      }
    },
    {
      "cell_type": "code",
      "source": [
        "df[['Country', 'Population']]"
      ],
      "metadata": {
        "id": "Cn9P4tr5P6cE",
        "cell_id": "aaae4ba1d1b5472ea088caac9ee59fe6",
        "source_hash": "1cc62e67",
        "execution_start": 1664740595046,
        "execution_millis": 11,
        "deepnote_app_coordinates": {
          "h": 5,
          "w": 12,
          "x": 0,
          "y": 481
        },
        "deepnote_to_be_reexecuted": false,
        "deepnote_app_is_code_hidden": true,
        "deepnote_cell_type": "code",
        "outputId": "e4d07bb9-d618-402e-9074-a44eb7693f51"
      },
      "outputs": [
        {
          "output_type": "execute_result",
          "execution_count": 37,
          "data": {
            "application/vnd.deepnote.dataframe.v3+json": {
              "column_count": 2,
              "row_count": 10,
              "columns": [
                {
                  "name": "Country",
                  "dtype": "object",
                  "stats": {
                    "unique_count": 10,
                    "nan_count": 0,
                    "categories": [
                      {
                        "name": "United States",
                        "count": 1
                      },
                      {
                        "name": "China",
                        "count": 1
                      },
                      {
                        "name": "8 others",
                        "count": 8
                      }
                    ]
                  }
                },
                {
                  "name": "Population",
                  "dtype": "int64",
                  "stats": {
                    "unique_count": 10,
                    "nan_count": 0,
                    "min": "38856839",
                    "max": "1425881285",
                    "histogram": [
                      {
                        "bin_start": 38856839,
                        "bin_end": 177559283.6,
                        "count": 6
                      },
                      {
                        "bin_start": 177559283.6,
                        "bin_end": 316261728.2,
                        "count": 1
                      },
                      {
                        "bin_start": 316261728.2,
                        "bin_end": 454964172.79999995,
                        "count": 1
                      },
                      {
                        "bin_start": 454964172.79999995,
                        "bin_end": 593666617.4,
                        "count": 0
                      },
                      {
                        "bin_start": 593666617.4,
                        "bin_end": 732369062,
                        "count": 0
                      },
                      {
                        "bin_start": 732369062,
                        "bin_end": 871071506.5999999,
                        "count": 0
                      },
                      {
                        "bin_start": 871071506.5999999,
                        "bin_end": 1009773951.1999999,
                        "count": 0
                      },
                      {
                        "bin_start": 1009773951.1999999,
                        "bin_end": 1148476395.8,
                        "count": 0
                      },
                      {
                        "bin_start": 1148476395.8,
                        "bin_end": 1287178840.3999999,
                        "count": 0
                      },
                      {
                        "bin_start": 1287178840.3999999,
                        "bin_end": 1425881285,
                        "count": 2
                      }
                    ]
                  }
                },
                {
                  "name": "_deepnote_index_column",
                  "dtype": "int64"
                }
              ],
              "rows": [
                {
                  "Country": "United States",
                  "Population": "332943701",
                  "_deepnote_index_column": "0"
                },
                {
                  "Country": "China",
                  "Population": "1425881285",
                  "_deepnote_index_column": "1"
                },
                {
                  "Country": "Japan",
                  "Population": "125502000",
                  "_deepnote_index_column": "2"
                },
                {
                  "Country": "Germany",
                  "Population": "83695430",
                  "_deepnote_index_column": "3"
                },
                {
                  "Country": "India",
                  "Population": "1417945080",
                  "_deepnote_index_column": "4"
                },
                {
                  "Country": "United Kingdom",
                  "Population": "67081234",
                  "_deepnote_index_column": "5"
                },
                {
                  "Country": "France",
                  "Population": "67874000",
                  "_deepnote_index_column": "6"
                },
                {
                  "Country": "Canada",
                  "Population": "38856839",
                  "_deepnote_index_column": "7"
                },
                {
                  "Country": "Italy",
                  "Population": "58906742",
                  "_deepnote_index_column": "8"
                },
                {
                  "Country": "Brazil",
                  "Population": "214956683",
                  "_deepnote_index_column": "9"
                }
              ]
            },
            "text/plain": "          Country  Population\n0   United States   332943701\n1           China  1425881285\n2           Japan   125502000\n3         Germany    83695430\n4           India  1417945080\n5  United Kingdom    67081234\n6          France    67874000\n7          Canada    38856839\n8           Italy    58906742\n9          Brazil   214956683",
            "text/html": "<div>\n<style scoped>\n    .dataframe tbody tr th:only-of-type {\n        vertical-align: middle;\n    }\n\n    .dataframe tbody tr th {\n        vertical-align: top;\n    }\n\n    .dataframe thead th {\n        text-align: right;\n    }\n</style>\n<table border=\"1\" class=\"dataframe\">\n  <thead>\n    <tr style=\"text-align: right;\">\n      <th></th>\n      <th>Country</th>\n      <th>Population</th>\n    </tr>\n  </thead>\n  <tbody>\n    <tr>\n      <th>0</th>\n      <td>United States</td>\n      <td>332943701</td>\n    </tr>\n    <tr>\n      <th>1</th>\n      <td>China</td>\n      <td>1425881285</td>\n    </tr>\n    <tr>\n      <th>2</th>\n      <td>Japan</td>\n      <td>125502000</td>\n    </tr>\n    <tr>\n      <th>3</th>\n      <td>Germany</td>\n      <td>83695430</td>\n    </tr>\n    <tr>\n      <th>4</th>\n      <td>India</td>\n      <td>1417945080</td>\n    </tr>\n    <tr>\n      <th>5</th>\n      <td>United Kingdom</td>\n      <td>67081234</td>\n    </tr>\n    <tr>\n      <th>6</th>\n      <td>France</td>\n      <td>67874000</td>\n    </tr>\n    <tr>\n      <th>7</th>\n      <td>Canada</td>\n      <td>38856839</td>\n    </tr>\n    <tr>\n      <th>8</th>\n      <td>Italy</td>\n      <td>58906742</td>\n    </tr>\n    <tr>\n      <th>9</th>\n      <td>Brazil</td>\n      <td>214956683</td>\n    </tr>\n  </tbody>\n</table>\n</div>"
          },
          "metadata": {}
        }
      ],
      "execution_count": null
    },
    {
      "cell_type": "markdown",
      "source": [
        "### Task: List the first country with its GDP and population"
      ],
      "metadata": {
        "id": "LoNdmFLLP6cE",
        "cell_id": "f72db9323cbe407c90944d6a364622c3",
        "deepnote_cell_height": 93.59375,
        "deepnote_app_coordinates": {
          "h": 5,
          "w": 12,
          "x": 0,
          "y": 487
        },
        "deepnote_cell_type": "markdown"
      }
    },
    {
      "cell_type": "code",
      "source": [
        "df.loc[0]"
      ],
      "metadata": {
        "id": "-ZQs1pHRP6cE",
        "cell_id": "60aad3ddec09455bae5e72183180c10f",
        "source_hash": "52644606",
        "execution_start": 1664740595081,
        "execution_millis": 3,
        "deepnote_app_coordinates": {
          "h": 5,
          "w": 12,
          "x": 0,
          "y": 493
        },
        "deepnote_to_be_reexecuted": false,
        "deepnote_app_is_code_hidden": true,
        "deepnote_cell_type": "code",
        "outputId": "a51eb3c9-7031-45b6-fe38-899312fead31"
      },
      "outputs": [
        {
          "output_type": "execute_result",
          "execution_count": 38,
          "data": {
            "text/plain": "Country       United States\nGDP                25346805\nPopulation        332943701\nName: 0, dtype: object"
          },
          "metadata": {}
        }
      ],
      "execution_count": null
    },
    {
      "cell_type": "markdown",
      "source": [
        "## Data Selection"
      ],
      "metadata": {
        "id": "ugNQUF71P6cE",
        "cell_id": "b0ec0c3786504e47bb048cda2d24089d",
        "deepnote_cell_height": 69.59375,
        "deepnote_app_coordinates": {
          "h": 5,
          "w": 12,
          "x": 0,
          "y": 499
        },
        "deepnote_cell_type": "markdown"
      }
    },
    {
      "cell_type": "markdown",
      "source": [
        "### Task: Show the countries whose GDP is more than 5 trillion dollars\n",
        "> (Hint: the data source has US$ Million as a unit, hence you need to choose GDP > 5,000,000 unit)\n",
        "\n",
        "\n"
      ],
      "metadata": {
        "id": "zLIBTqWoP6cF",
        "cell_id": "f35305ee6ea74cd8a0074b6a89b3ffde",
        "deepnote_cell_height": 168.390625,
        "deepnote_app_coordinates": {
          "h": 5,
          "w": 12,
          "x": 0,
          "y": 505
        },
        "deepnote_cell_type": "markdown"
      }
    },
    {
      "cell_type": "code",
      "source": [
        "df[df['GDP'] > 5000000]"
      ],
      "metadata": {
        "id": "eSaq0RCcP6cF",
        "cell_id": "160efefbdf7b4314952fa7e3e3c5f46e",
        "source_hash": "d68225b8",
        "execution_start": 1664740595082,
        "execution_millis": 2,
        "deepnote_app_coordinates": {
          "h": 5,
          "w": 12,
          "x": 0,
          "y": 511
        },
        "deepnote_to_be_reexecuted": false,
        "deepnote_app_is_code_hidden": true,
        "deepnote_cell_type": "code",
        "outputId": "ae8257f4-b3e3-4dcb-9b6c-b7b5d6fe5ed2"
      },
      "outputs": [
        {
          "output_type": "execute_result",
          "execution_count": 39,
          "data": {
            "application/vnd.deepnote.dataframe.v3+json": {
              "column_count": 3,
              "row_count": 2,
              "columns": [
                {
                  "name": "Country",
                  "dtype": "object",
                  "stats": {
                    "unique_count": 2,
                    "nan_count": 0,
                    "categories": [
                      {
                        "name": "United States",
                        "count": 1
                      },
                      {
                        "name": "China",
                        "count": 1
                      }
                    ]
                  }
                },
                {
                  "name": "GDP",
                  "dtype": "int64",
                  "stats": {
                    "unique_count": 2,
                    "nan_count": 0,
                    "min": "19911593",
                    "max": "25346805",
                    "histogram": [
                      {
                        "bin_start": 19911593,
                        "bin_end": 20455114.2,
                        "count": 1
                      },
                      {
                        "bin_start": 20455114.2,
                        "bin_end": 20998635.4,
                        "count": 0
                      },
                      {
                        "bin_start": 20998635.4,
                        "bin_end": 21542156.6,
                        "count": 0
                      },
                      {
                        "bin_start": 21542156.6,
                        "bin_end": 22085677.8,
                        "count": 0
                      },
                      {
                        "bin_start": 22085677.8,
                        "bin_end": 22629199,
                        "count": 0
                      },
                      {
                        "bin_start": 22629199,
                        "bin_end": 23172720.2,
                        "count": 0
                      },
                      {
                        "bin_start": 23172720.2,
                        "bin_end": 23716241.4,
                        "count": 0
                      },
                      {
                        "bin_start": 23716241.4,
                        "bin_end": 24259762.6,
                        "count": 0
                      },
                      {
                        "bin_start": 24259762.6,
                        "bin_end": 24803283.8,
                        "count": 0
                      },
                      {
                        "bin_start": 24803283.8,
                        "bin_end": 25346805,
                        "count": 1
                      }
                    ]
                  }
                },
                {
                  "name": "Population",
                  "dtype": "int64",
                  "stats": {
                    "unique_count": 2,
                    "nan_count": 0,
                    "min": "332943701",
                    "max": "1425881285",
                    "histogram": [
                      {
                        "bin_start": 332943701,
                        "bin_end": 442237459.4,
                        "count": 1
                      },
                      {
                        "bin_start": 442237459.4,
                        "bin_end": 551531217.8,
                        "count": 0
                      },
                      {
                        "bin_start": 551531217.8,
                        "bin_end": 660824976.2,
                        "count": 0
                      },
                      {
                        "bin_start": 660824976.2,
                        "bin_end": 770118734.6,
                        "count": 0
                      },
                      {
                        "bin_start": 770118734.6,
                        "bin_end": 879412493,
                        "count": 0
                      },
                      {
                        "bin_start": 879412493,
                        "bin_end": 988706251.4000001,
                        "count": 0
                      },
                      {
                        "bin_start": 988706251.4000001,
                        "bin_end": 1098000009.8000002,
                        "count": 0
                      },
                      {
                        "bin_start": 1098000009.8000002,
                        "bin_end": 1207293768.2,
                        "count": 0
                      },
                      {
                        "bin_start": 1207293768.2,
                        "bin_end": 1316587526.6,
                        "count": 0
                      },
                      {
                        "bin_start": 1316587526.6,
                        "bin_end": 1425881285,
                        "count": 1
                      }
                    ]
                  }
                },
                {
                  "name": "_deepnote_index_column",
                  "dtype": "int64"
                }
              ],
              "rows": [
                {
                  "Country": "United States",
                  "GDP": "25346805",
                  "Population": "332943701",
                  "_deepnote_index_column": "0"
                },
                {
                  "Country": "China",
                  "GDP": "19911593",
                  "Population": "1425881285",
                  "_deepnote_index_column": "1"
                }
              ]
            },
            "text/plain": "         Country       GDP  Population\n0  United States  25346805   332943701\n1          China  19911593  1425881285",
            "text/html": "<div>\n<style scoped>\n    .dataframe tbody tr th:only-of-type {\n        vertical-align: middle;\n    }\n\n    .dataframe tbody tr th {\n        vertical-align: top;\n    }\n\n    .dataframe thead th {\n        text-align: right;\n    }\n</style>\n<table border=\"1\" class=\"dataframe\">\n  <thead>\n    <tr style=\"text-align: right;\">\n      <th></th>\n      <th>Country</th>\n      <th>GDP</th>\n      <th>Population</th>\n    </tr>\n  </thead>\n  <tbody>\n    <tr>\n      <th>0</th>\n      <td>United States</td>\n      <td>25346805</td>\n      <td>332943701</td>\n    </tr>\n    <tr>\n      <th>1</th>\n      <td>China</td>\n      <td>19911593</td>\n      <td>1425881285</td>\n    </tr>\n  </tbody>\n</table>\n</div>"
          },
          "metadata": {}
        }
      ],
      "execution_count": null
    },
    {
      "cell_type": "markdown",
      "source": [
        "### Task: Show the countries whose GDP is more than 3 trillion dollars"
      ],
      "metadata": {
        "id": "nZQKtpxlP6cF",
        "cell_id": "aec10d78013f43bebad785ab47d471e7",
        "deepnote_cell_height": 93.59375,
        "deepnote_app_coordinates": {
          "h": 5,
          "w": 12,
          "x": 0,
          "y": 517
        },
        "deepnote_cell_type": "markdown"
      }
    },
    {
      "cell_type": "code",
      "source": [
        "df[df['GDP'] > 3000000]"
      ],
      "metadata": {
        "id": "4i703wXkP6cF",
        "cell_id": "21f3238a2c79405491b16cba36c73731",
        "source_hash": "322d1aba",
        "execution_start": 1664740595086,
        "execution_millis": 9,
        "deepnote_app_coordinates": {
          "h": 5,
          "w": 12,
          "x": 0,
          "y": 523
        },
        "deepnote_to_be_reexecuted": false,
        "deepnote_app_is_code_hidden": true,
        "deepnote_cell_type": "code",
        "outputId": "2a3e4cee-69ce-4e1d-9008-fac43237f04e"
      },
      "outputs": [
        {
          "output_type": "execute_result",
          "execution_count": 40,
          "data": {
            "application/vnd.deepnote.dataframe.v3+json": {
              "column_count": 3,
              "row_count": 6,
              "columns": [
                {
                  "name": "Country",
                  "dtype": "object",
                  "stats": {
                    "unique_count": 6,
                    "nan_count": 0,
                    "categories": [
                      {
                        "name": "United States",
                        "count": 1
                      },
                      {
                        "name": "China",
                        "count": 1
                      },
                      {
                        "name": "4 others",
                        "count": 4
                      }
                    ]
                  }
                },
                {
                  "name": "GDP",
                  "dtype": "int64",
                  "stats": {
                    "unique_count": 6,
                    "nan_count": 0,
                    "min": "3376003",
                    "max": "25346805",
                    "histogram": [
                      {
                        "bin_start": 3376003,
                        "bin_end": 5573083.2,
                        "count": 4
                      },
                      {
                        "bin_start": 5573083.2,
                        "bin_end": 7770163.4,
                        "count": 0
                      },
                      {
                        "bin_start": 7770163.4,
                        "bin_end": 9967243.600000001,
                        "count": 0
                      },
                      {
                        "bin_start": 9967243.600000001,
                        "bin_end": 12164323.8,
                        "count": 0
                      },
                      {
                        "bin_start": 12164323.8,
                        "bin_end": 14361404,
                        "count": 0
                      },
                      {
                        "bin_start": 14361404,
                        "bin_end": 16558484.200000001,
                        "count": 0
                      },
                      {
                        "bin_start": 16558484.200000001,
                        "bin_end": 18755564.400000002,
                        "count": 0
                      },
                      {
                        "bin_start": 18755564.400000002,
                        "bin_end": 20952644.6,
                        "count": 1
                      },
                      {
                        "bin_start": 20952644.6,
                        "bin_end": 23149724.8,
                        "count": 0
                      },
                      {
                        "bin_start": 23149724.8,
                        "bin_end": 25346805,
                        "count": 1
                      }
                    ]
                  }
                },
                {
                  "name": "Population",
                  "dtype": "int64",
                  "stats": {
                    "unique_count": 6,
                    "nan_count": 0,
                    "min": "67081234",
                    "max": "1425881285",
                    "histogram": [
                      {
                        "bin_start": 67081234,
                        "bin_end": 202961239.1,
                        "count": 3
                      },
                      {
                        "bin_start": 202961239.1,
                        "bin_end": 338841244.2,
                        "count": 1
                      },
                      {
                        "bin_start": 338841244.2,
                        "bin_end": 474721249.29999995,
                        "count": 0
                      },
                      {
                        "bin_start": 474721249.29999995,
                        "bin_end": 610601254.4,
                        "count": 0
                      },
                      {
                        "bin_start": 610601254.4,
                        "bin_end": 746481259.5,
                        "count": 0
                      },
                      {
                        "bin_start": 746481259.5,
                        "bin_end": 882361264.5999999,
                        "count": 0
                      },
                      {
                        "bin_start": 882361264.5999999,
                        "bin_end": 1018241269.6999999,
                        "count": 0
                      },
                      {
                        "bin_start": 1018241269.6999999,
                        "bin_end": 1154121274.8,
                        "count": 0
                      },
                      {
                        "bin_start": 1154121274.8,
                        "bin_end": 1290001279.8999999,
                        "count": 0
                      },
                      {
                        "bin_start": 1290001279.8999999,
                        "bin_end": 1425881285,
                        "count": 2
                      }
                    ]
                  }
                },
                {
                  "name": "_deepnote_index_column",
                  "dtype": "int64"
                }
              ],
              "rows": [
                {
                  "Country": "United States",
                  "GDP": "25346805",
                  "Population": "332943701",
                  "_deepnote_index_column": "0"
                },
                {
                  "Country": "China",
                  "GDP": "19911593",
                  "Population": "1425881285",
                  "_deepnote_index_column": "1"
                },
                {
                  "Country": "Japan",
                  "GDP": "4912147",
                  "Population": "125502000",
                  "_deepnote_index_column": "2"
                },
                {
                  "Country": "Germany",
                  "GDP": "4256540",
                  "Population": "83695430",
                  "_deepnote_index_column": "3"
                },
                {
                  "Country": "India",
                  "GDP": "3534743",
                  "Population": "1417945080",
                  "_deepnote_index_column": "4"
                },
                {
                  "Country": "United Kingdom",
                  "GDP": "3376003",
                  "Population": "67081234",
                  "_deepnote_index_column": "5"
                }
              ]
            },
            "text/plain": "          Country       GDP  Population\n0   United States  25346805   332943701\n1           China  19911593  1425881285\n2           Japan   4912147   125502000\n3         Germany   4256540    83695430\n4           India   3534743  1417945080\n5  United Kingdom   3376003    67081234",
            "text/html": "<div>\n<style scoped>\n    .dataframe tbody tr th:only-of-type {\n        vertical-align: middle;\n    }\n\n    .dataframe tbody tr th {\n        vertical-align: top;\n    }\n\n    .dataframe thead th {\n        text-align: right;\n    }\n</style>\n<table border=\"1\" class=\"dataframe\">\n  <thead>\n    <tr style=\"text-align: right;\">\n      <th></th>\n      <th>Country</th>\n      <th>GDP</th>\n      <th>Population</th>\n    </tr>\n  </thead>\n  <tbody>\n    <tr>\n      <th>0</th>\n      <td>United States</td>\n      <td>25346805</td>\n      <td>332943701</td>\n    </tr>\n    <tr>\n      <th>1</th>\n      <td>China</td>\n      <td>19911593</td>\n      <td>1425881285</td>\n    </tr>\n    <tr>\n      <th>2</th>\n      <td>Japan</td>\n      <td>4912147</td>\n      <td>125502000</td>\n    </tr>\n    <tr>\n      <th>3</th>\n      <td>Germany</td>\n      <td>4256540</td>\n      <td>83695430</td>\n    </tr>\n    <tr>\n      <th>4</th>\n      <td>India</td>\n      <td>3534743</td>\n      <td>1417945080</td>\n    </tr>\n    <tr>\n      <th>5</th>\n      <td>United Kingdom</td>\n      <td>3376003</td>\n      <td>67081234</td>\n    </tr>\n  </tbody>\n</table>\n</div>"
          },
          "metadata": {}
        }
      ],
      "execution_count": null
    },
    {
      "cell_type": "markdown",
      "source": [
        "### Task: Show the countries whose pupulation is more than 1 billion"
      ],
      "metadata": {
        "id": "GAK2A9r7P6cF",
        "cell_id": "4c0bf8084ba14ca7b61d9dbe97ff2445",
        "deepnote_cell_height": 93.59375,
        "deepnote_app_coordinates": {
          "h": 5,
          "w": 12,
          "x": 0,
          "y": 529
        },
        "deepnote_cell_type": "markdown"
      }
    },
    {
      "cell_type": "code",
      "source": [
        "df[df['Population'] > 1000000000]"
      ],
      "metadata": {
        "id": "ZLHrhaEeP6cF",
        "cell_id": "a378a1d541e24ab8938ba608d2f0f644",
        "source_hash": "b217f4fa",
        "execution_start": 1664740595095,
        "execution_millis": 12,
        "deepnote_app_coordinates": {
          "h": 5,
          "w": 12,
          "x": 0,
          "y": 535
        },
        "deepnote_to_be_reexecuted": false,
        "deepnote_app_is_code_hidden": true,
        "deepnote_cell_type": "code",
        "outputId": "3504ed7d-aaa5-4c0f-d414-3929c2eee1d2"
      },
      "outputs": [
        {
          "output_type": "execute_result",
          "execution_count": 41,
          "data": {
            "application/vnd.deepnote.dataframe.v3+json": {
              "column_count": 3,
              "row_count": 2,
              "columns": [
                {
                  "name": "Country",
                  "dtype": "object",
                  "stats": {
                    "unique_count": 2,
                    "nan_count": 0,
                    "categories": [
                      {
                        "name": "China",
                        "count": 1
                      },
                      {
                        "name": "India",
                        "count": 1
                      }
                    ]
                  }
                },
                {
                  "name": "GDP",
                  "dtype": "int64",
                  "stats": {
                    "unique_count": 2,
                    "nan_count": 0,
                    "min": "3534743",
                    "max": "19911593",
                    "histogram": [
                      {
                        "bin_start": 3534743,
                        "bin_end": 5172428,
                        "count": 1
                      },
                      {
                        "bin_start": 5172428,
                        "bin_end": 6810113,
                        "count": 0
                      },
                      {
                        "bin_start": 6810113,
                        "bin_end": 8447798,
                        "count": 0
                      },
                      {
                        "bin_start": 8447798,
                        "bin_end": 10085483,
                        "count": 0
                      },
                      {
                        "bin_start": 10085483,
                        "bin_end": 11723168,
                        "count": 0
                      },
                      {
                        "bin_start": 11723168,
                        "bin_end": 13360853,
                        "count": 0
                      },
                      {
                        "bin_start": 13360853,
                        "bin_end": 14998538,
                        "count": 0
                      },
                      {
                        "bin_start": 14998538,
                        "bin_end": 16636223,
                        "count": 0
                      },
                      {
                        "bin_start": 16636223,
                        "bin_end": 18273908,
                        "count": 0
                      },
                      {
                        "bin_start": 18273908,
                        "bin_end": 19911593,
                        "count": 1
                      }
                    ]
                  }
                },
                {
                  "name": "Population",
                  "dtype": "int64",
                  "stats": {
                    "unique_count": 2,
                    "nan_count": 0,
                    "min": "1417945080",
                    "max": "1425881285",
                    "histogram": [
                      {
                        "bin_start": 1417945080,
                        "bin_end": 1418738700.5,
                        "count": 1
                      },
                      {
                        "bin_start": 1418738700.5,
                        "bin_end": 1419532321,
                        "count": 0
                      },
                      {
                        "bin_start": 1419532321,
                        "bin_end": 1420325941.5,
                        "count": 0
                      },
                      {
                        "bin_start": 1420325941.5,
                        "bin_end": 1421119562,
                        "count": 0
                      },
                      {
                        "bin_start": 1421119562,
                        "bin_end": 1421913182.5,
                        "count": 0
                      },
                      {
                        "bin_start": 1421913182.5,
                        "bin_end": 1422706803,
                        "count": 0
                      },
                      {
                        "bin_start": 1422706803,
                        "bin_end": 1423500423.5,
                        "count": 0
                      },
                      {
                        "bin_start": 1423500423.5,
                        "bin_end": 1424294044,
                        "count": 0
                      },
                      {
                        "bin_start": 1424294044,
                        "bin_end": 1425087664.5,
                        "count": 0
                      },
                      {
                        "bin_start": 1425087664.5,
                        "bin_end": 1425881285,
                        "count": 1
                      }
                    ]
                  }
                },
                {
                  "name": "_deepnote_index_column",
                  "dtype": "int64"
                }
              ],
              "rows": [
                {
                  "Country": "China",
                  "GDP": "19911593",
                  "Population": "1425881285",
                  "_deepnote_index_column": "1"
                },
                {
                  "Country": "India",
                  "GDP": "3534743",
                  "Population": "1417945080",
                  "_deepnote_index_column": "4"
                }
              ]
            },
            "text/plain": "  Country       GDP  Population\n1   China  19911593  1425881285\n4   India   3534743  1417945080",
            "text/html": "<div>\n<style scoped>\n    .dataframe tbody tr th:only-of-type {\n        vertical-align: middle;\n    }\n\n    .dataframe tbody tr th {\n        vertical-align: top;\n    }\n\n    .dataframe thead th {\n        text-align: right;\n    }\n</style>\n<table border=\"1\" class=\"dataframe\">\n  <thead>\n    <tr style=\"text-align: right;\">\n      <th></th>\n      <th>Country</th>\n      <th>GDP</th>\n      <th>Population</th>\n    </tr>\n  </thead>\n  <tbody>\n    <tr>\n      <th>1</th>\n      <td>China</td>\n      <td>19911593</td>\n      <td>1425881285</td>\n    </tr>\n    <tr>\n      <th>4</th>\n      <td>India</td>\n      <td>3534743</td>\n      <td>1417945080</td>\n    </tr>\n  </tbody>\n</table>\n</div>"
          },
          "metadata": {}
        }
      ],
      "execution_count": null
    },
    {
      "cell_type": "markdown",
      "source": [
        "### Task: Show the countries whose pupulation is less than 300 million"
      ],
      "metadata": {
        "id": "yymM4GIQP6cG",
        "cell_id": "61dbd16a834144139636331100ddeb5c",
        "deepnote_cell_height": 93.59375,
        "deepnote_app_coordinates": {
          "h": 5,
          "w": 12,
          "x": 0,
          "y": 541
        },
        "deepnote_cell_type": "markdown"
      }
    },
    {
      "cell_type": "code",
      "source": [
        "df[df['Population'] < 300000000]"
      ],
      "metadata": {
        "id": "TvjRcKORP6cG",
        "cell_id": "34a57a88830e40889314151a34d48c70",
        "source_hash": "5d23be5b",
        "execution_start": 1664740595109,
        "execution_millis": 47,
        "deepnote_app_coordinates": {
          "h": 5,
          "w": 12,
          "x": 0,
          "y": 547
        },
        "deepnote_to_be_reexecuted": false,
        "deepnote_app_is_code_hidden": true,
        "deepnote_cell_type": "code",
        "outputId": "1e44f6a4-6a39-475b-e6ae-663a5af6dbc5"
      },
      "outputs": [
        {
          "output_type": "execute_result",
          "execution_count": 42,
          "data": {
            "application/vnd.deepnote.dataframe.v3+json": {
              "column_count": 3,
              "row_count": 7,
              "columns": [
                {
                  "name": "Country",
                  "dtype": "object",
                  "stats": {
                    "unique_count": 7,
                    "nan_count": 0,
                    "categories": [
                      {
                        "name": "Japan",
                        "count": 1
                      },
                      {
                        "name": "Germany",
                        "count": 1
                      },
                      {
                        "name": "5 others",
                        "count": 5
                      }
                    ]
                  }
                },
                {
                  "name": "GDP",
                  "dtype": "int64",
                  "stats": {
                    "unique_count": 7,
                    "nan_count": 0,
                    "min": "1833274",
                    "max": "4912147",
                    "histogram": [
                      {
                        "bin_start": 1833274,
                        "bin_end": 2141161.3,
                        "count": 2
                      },
                      {
                        "bin_start": 2141161.3,
                        "bin_end": 2449048.6,
                        "count": 1
                      },
                      {
                        "bin_start": 2449048.6,
                        "bin_end": 2756935.9,
                        "count": 0
                      },
                      {
                        "bin_start": 2756935.9,
                        "bin_end": 3064823.2,
                        "count": 1
                      },
                      {
                        "bin_start": 3064823.2,
                        "bin_end": 3372710.5,
                        "count": 0
                      },
                      {
                        "bin_start": 3372710.5,
                        "bin_end": 3680597.8,
                        "count": 1
                      },
                      {
                        "bin_start": 3680597.8,
                        "bin_end": 3988485.1,
                        "count": 0
                      },
                      {
                        "bin_start": 3988485.1,
                        "bin_end": 4296372.4,
                        "count": 1
                      },
                      {
                        "bin_start": 4296372.4,
                        "bin_end": 4604259.699999999,
                        "count": 0
                      },
                      {
                        "bin_start": 4604259.699999999,
                        "bin_end": 4912147,
                        "count": 1
                      }
                    ]
                  }
                },
                {
                  "name": "Population",
                  "dtype": "int64",
                  "stats": {
                    "unique_count": 7,
                    "nan_count": 0,
                    "min": "38856839",
                    "max": "214956683",
                    "histogram": [
                      {
                        "bin_start": 38856839,
                        "bin_end": 56466823.4,
                        "count": 1
                      },
                      {
                        "bin_start": 56466823.4,
                        "bin_end": 74076807.8,
                        "count": 3
                      },
                      {
                        "bin_start": 74076807.8,
                        "bin_end": 91686792.19999999,
                        "count": 1
                      },
                      {
                        "bin_start": 91686792.19999999,
                        "bin_end": 109296776.6,
                        "count": 0
                      },
                      {
                        "bin_start": 109296776.6,
                        "bin_end": 126906761,
                        "count": 1
                      },
                      {
                        "bin_start": 126906761,
                        "bin_end": 144516745.39999998,
                        "count": 0
                      },
                      {
                        "bin_start": 144516745.39999998,
                        "bin_end": 162126729.79999998,
                        "count": 0
                      },
                      {
                        "bin_start": 162126729.79999998,
                        "bin_end": 179736714.2,
                        "count": 0
                      },
                      {
                        "bin_start": 179736714.2,
                        "bin_end": 197346698.6,
                        "count": 0
                      },
                      {
                        "bin_start": 197346698.6,
                        "bin_end": 214956683,
                        "count": 1
                      }
                    ]
                  }
                },
                {
                  "name": "_deepnote_index_column",
                  "dtype": "int64"
                }
              ],
              "rows": [
                {
                  "Country": "Japan",
                  "GDP": "4912147",
                  "Population": "125502000",
                  "_deepnote_index_column": "2"
                },
                {
                  "Country": "Germany",
                  "GDP": "4256540",
                  "Population": "83695430",
                  "_deepnote_index_column": "3"
                },
                {
                  "Country": "United Kingdom",
                  "GDP": "3376003",
                  "Population": "67081234",
                  "_deepnote_index_column": "5"
                },
                {
                  "Country": "France",
                  "GDP": "2936702",
                  "Population": "67874000",
                  "_deepnote_index_column": "6"
                },
                {
                  "Country": "Canada",
                  "GDP": "2221218",
                  "Population": "38856839",
                  "_deepnote_index_column": "7"
                },
                {
                  "Country": "Italy",
                  "GDP": "2058330",
                  "Population": "58906742",
                  "_deepnote_index_column": "8"
                },
                {
                  "Country": "Brazil",
                  "GDP": "1833274",
                  "Population": "214956683",
                  "_deepnote_index_column": "9"
                }
              ]
            },
            "text/plain": "          Country      GDP  Population\n2           Japan  4912147   125502000\n3         Germany  4256540    83695430\n5  United Kingdom  3376003    67081234\n6          France  2936702    67874000\n7          Canada  2221218    38856839\n8           Italy  2058330    58906742\n9          Brazil  1833274   214956683",
            "text/html": "<div>\n<style scoped>\n    .dataframe tbody tr th:only-of-type {\n        vertical-align: middle;\n    }\n\n    .dataframe tbody tr th {\n        vertical-align: top;\n    }\n\n    .dataframe thead th {\n        text-align: right;\n    }\n</style>\n<table border=\"1\" class=\"dataframe\">\n  <thead>\n    <tr style=\"text-align: right;\">\n      <th></th>\n      <th>Country</th>\n      <th>GDP</th>\n      <th>Population</th>\n    </tr>\n  </thead>\n  <tbody>\n    <tr>\n      <th>2</th>\n      <td>Japan</td>\n      <td>4912147</td>\n      <td>125502000</td>\n    </tr>\n    <tr>\n      <th>3</th>\n      <td>Germany</td>\n      <td>4256540</td>\n      <td>83695430</td>\n    </tr>\n    <tr>\n      <th>5</th>\n      <td>United Kingdom</td>\n      <td>3376003</td>\n      <td>67081234</td>\n    </tr>\n    <tr>\n      <th>6</th>\n      <td>France</td>\n      <td>2936702</td>\n      <td>67874000</td>\n    </tr>\n    <tr>\n      <th>7</th>\n      <td>Canada</td>\n      <td>2221218</td>\n      <td>38856839</td>\n    </tr>\n    <tr>\n      <th>8</th>\n      <td>Italy</td>\n      <td>2058330</td>\n      <td>58906742</td>\n    </tr>\n    <tr>\n      <th>9</th>\n      <td>Brazil</td>\n      <td>1833274</td>\n      <td>214956683</td>\n    </tr>\n  </tbody>\n</table>\n</div>"
          },
          "metadata": {}
        }
      ],
      "execution_count": null
    },
    {
      "cell_type": "markdown",
      "source": [
        "### Task: Show the countries whose pupulation is between 300 million and 500 million"
      ],
      "metadata": {
        "id": "hY-CcAlYP6cG",
        "cell_id": "817ad486d40244dfab41fa869a598ee2",
        "deepnote_cell_height": 93.59375,
        "deepnote_app_coordinates": {
          "h": 5,
          "w": 12,
          "x": 0,
          "y": 553
        },
        "deepnote_cell_type": "markdown"
      }
    },
    {
      "cell_type": "code",
      "source": [
        "df[(df['Population'] > 300000000) & (df['Population'] < 500000000)]"
      ],
      "metadata": {
        "id": "H_k7GpbeP6cG",
        "cell_id": "05819401781a405f847951ff3a0aba6b",
        "source_hash": "2f05f761",
        "execution_start": 1664740595150,
        "execution_millis": 16,
        "deepnote_app_coordinates": {
          "h": 5,
          "w": 12,
          "x": 0,
          "y": 559
        },
        "deepnote_to_be_reexecuted": false,
        "deepnote_app_is_code_hidden": true,
        "deepnote_cell_type": "code",
        "outputId": "de17a72e-a9b4-4818-fe2f-d36f8bbff5bf"
      },
      "outputs": [
        {
          "output_type": "execute_result",
          "execution_count": 43,
          "data": {
            "application/vnd.deepnote.dataframe.v3+json": {
              "column_count": 3,
              "row_count": 1,
              "columns": [
                {
                  "name": "Country",
                  "dtype": "object",
                  "stats": {
                    "unique_count": 1,
                    "nan_count": 0,
                    "categories": [
                      {
                        "name": "United States",
                        "count": 1
                      }
                    ]
                  }
                },
                {
                  "name": "GDP",
                  "dtype": "int64",
                  "stats": {
                    "unique_count": 1,
                    "nan_count": 0,
                    "min": "25346805",
                    "max": "25346805",
                    "histogram": [
                      {
                        "bin_start": 25346804.5,
                        "bin_end": 25346804.6,
                        "count": 0
                      },
                      {
                        "bin_start": 25346804.6,
                        "bin_end": 25346804.7,
                        "count": 0
                      },
                      {
                        "bin_start": 25346804.7,
                        "bin_end": 25346804.8,
                        "count": 0
                      },
                      {
                        "bin_start": 25346804.8,
                        "bin_end": 25346804.9,
                        "count": 0
                      },
                      {
                        "bin_start": 25346804.9,
                        "bin_end": 25346805,
                        "count": 0
                      },
                      {
                        "bin_start": 25346805,
                        "bin_end": 25346805.1,
                        "count": 1
                      },
                      {
                        "bin_start": 25346805.1,
                        "bin_end": 25346805.2,
                        "count": 0
                      },
                      {
                        "bin_start": 25346805.2,
                        "bin_end": 25346805.3,
                        "count": 0
                      },
                      {
                        "bin_start": 25346805.3,
                        "bin_end": 25346805.4,
                        "count": 0
                      },
                      {
                        "bin_start": 25346805.4,
                        "bin_end": 25346805.5,
                        "count": 0
                      }
                    ]
                  }
                },
                {
                  "name": "Population",
                  "dtype": "int64",
                  "stats": {
                    "unique_count": 1,
                    "nan_count": 0,
                    "min": "332943701",
                    "max": "332943701",
                    "histogram": [
                      {
                        "bin_start": 332943700.5,
                        "bin_end": 332943700.6,
                        "count": 0
                      },
                      {
                        "bin_start": 332943700.6,
                        "bin_end": 332943700.7,
                        "count": 0
                      },
                      {
                        "bin_start": 332943700.7,
                        "bin_end": 332943700.8,
                        "count": 0
                      },
                      {
                        "bin_start": 332943700.8,
                        "bin_end": 332943700.9,
                        "count": 0
                      },
                      {
                        "bin_start": 332943700.9,
                        "bin_end": 332943701,
                        "count": 0
                      },
                      {
                        "bin_start": 332943701,
                        "bin_end": 332943701.1,
                        "count": 1
                      },
                      {
                        "bin_start": 332943701.1,
                        "bin_end": 332943701.2,
                        "count": 0
                      },
                      {
                        "bin_start": 332943701.2,
                        "bin_end": 332943701.3,
                        "count": 0
                      },
                      {
                        "bin_start": 332943701.3,
                        "bin_end": 332943701.4,
                        "count": 0
                      },
                      {
                        "bin_start": 332943701.4,
                        "bin_end": 332943701.5,
                        "count": 0
                      }
                    ]
                  }
                },
                {
                  "name": "_deepnote_index_column",
                  "dtype": "int64"
                }
              ],
              "rows": [
                {
                  "Country": "United States",
                  "GDP": "25346805",
                  "Population": "332943701",
                  "_deepnote_index_column": "0"
                }
              ]
            },
            "text/plain": "         Country       GDP  Population\n0  United States  25346805   332943701",
            "text/html": "<div>\n<style scoped>\n    .dataframe tbody tr th:only-of-type {\n        vertical-align: middle;\n    }\n\n    .dataframe tbody tr th {\n        vertical-align: top;\n    }\n\n    .dataframe thead th {\n        text-align: right;\n    }\n</style>\n<table border=\"1\" class=\"dataframe\">\n  <thead>\n    <tr style=\"text-align: right;\">\n      <th></th>\n      <th>Country</th>\n      <th>GDP</th>\n      <th>Population</th>\n    </tr>\n  </thead>\n  <tbody>\n    <tr>\n      <th>0</th>\n      <td>United States</td>\n      <td>25346805</td>\n      <td>332943701</td>\n    </tr>\n  </tbody>\n</table>\n</div>"
          },
          "metadata": {}
        }
      ],
      "execution_count": null
    },
    {
      "cell_type": "markdown",
      "source": [
        "## Data Manipulation"
      ],
      "metadata": {
        "id": "xhrKegkYP6cG",
        "cell_id": "ccaa3c6165a34760875af8c9a39054f9",
        "deepnote_cell_height": 69.59375,
        "deepnote_app_coordinates": {
          "h": 5,
          "w": 12,
          "x": 0,
          "y": 565
        },
        "deepnote_cell_type": "markdown"
      }
    },
    {
      "cell_type": "markdown",
      "source": [
        "### Task: Create a new column, called \"GDP per capita\", based on the column \"GDP\" and the column \"Population\""
      ],
      "metadata": {
        "id": "N_u4K8VXP6cG",
        "cell_id": "5af8fd8bc0c74b33bf8cb630dba236a4",
        "deepnote_cell_height": 125.59375,
        "deepnote_app_coordinates": {
          "h": 5,
          "w": 12,
          "x": 0,
          "y": 571
        },
        "deepnote_cell_type": "markdown"
      }
    },
    {
      "cell_type": "code",
      "source": [
        "df['GDP per capita'] = df['GDP'] / df['Population']\n",
        "df"
      ],
      "metadata": {
        "id": "M6FWNO46P6cG",
        "cell_id": "4e1742aad19d4f9c878231aa7604543f",
        "source_hash": "e235224e",
        "execution_start": 1664740595164,
        "execution_millis": 6,
        "deepnote_app_coordinates": {
          "h": 5,
          "w": 12,
          "x": 0,
          "y": 577
        },
        "deepnote_to_be_reexecuted": false,
        "deepnote_app_is_code_hidden": true,
        "deepnote_cell_type": "code",
        "outputId": "1fabe913-52c7-4d6c-8fde-04a485e5c3a4"
      },
      "outputs": [
        {
          "output_type": "execute_result",
          "execution_count": 44,
          "data": {
            "application/vnd.deepnote.dataframe.v3+json": {
              "column_count": 4,
              "row_count": 10,
              "columns": [
                {
                  "name": "Country",
                  "dtype": "object",
                  "stats": {
                    "unique_count": 10,
                    "nan_count": 0,
                    "categories": [
                      {
                        "name": "United States",
                        "count": 1
                      },
                      {
                        "name": "China",
                        "count": 1
                      },
                      {
                        "name": "8 others",
                        "count": 8
                      }
                    ]
                  }
                },
                {
                  "name": "GDP",
                  "dtype": "int64",
                  "stats": {
                    "unique_count": 10,
                    "nan_count": 0,
                    "min": "1833274",
                    "max": "25346805",
                    "histogram": [
                      {
                        "bin_start": 1833274,
                        "bin_end": 4184627.1,
                        "count": 6
                      },
                      {
                        "bin_start": 4184627.1,
                        "bin_end": 6535980.2,
                        "count": 2
                      },
                      {
                        "bin_start": 6535980.2,
                        "bin_end": 8887333.3,
                        "count": 0
                      },
                      {
                        "bin_start": 8887333.3,
                        "bin_end": 11238686.4,
                        "count": 0
                      },
                      {
                        "bin_start": 11238686.4,
                        "bin_end": 13590039.5,
                        "count": 0
                      },
                      {
                        "bin_start": 13590039.5,
                        "bin_end": 15941392.600000001,
                        "count": 0
                      },
                      {
                        "bin_start": 15941392.600000001,
                        "bin_end": 18292745.700000003,
                        "count": 0
                      },
                      {
                        "bin_start": 18292745.700000003,
                        "bin_end": 20644098.8,
                        "count": 1
                      },
                      {
                        "bin_start": 20644098.8,
                        "bin_end": 22995451.900000002,
                        "count": 0
                      },
                      {
                        "bin_start": 22995451.900000002,
                        "bin_end": 25346805,
                        "count": 1
                      }
                    ]
                  }
                },
                {
                  "name": "Population",
                  "dtype": "int64",
                  "stats": {
                    "unique_count": 10,
                    "nan_count": 0,
                    "min": "38856839",
                    "max": "1425881285",
                    "histogram": [
                      {
                        "bin_start": 38856839,
                        "bin_end": 177559283.6,
                        "count": 6
                      },
                      {
                        "bin_start": 177559283.6,
                        "bin_end": 316261728.2,
                        "count": 1
                      },
                      {
                        "bin_start": 316261728.2,
                        "bin_end": 454964172.79999995,
                        "count": 1
                      },
                      {
                        "bin_start": 454964172.79999995,
                        "bin_end": 593666617.4,
                        "count": 0
                      },
                      {
                        "bin_start": 593666617.4,
                        "bin_end": 732369062,
                        "count": 0
                      },
                      {
                        "bin_start": 732369062,
                        "bin_end": 871071506.5999999,
                        "count": 0
                      },
                      {
                        "bin_start": 871071506.5999999,
                        "bin_end": 1009773951.1999999,
                        "count": 0
                      },
                      {
                        "bin_start": 1009773951.1999999,
                        "bin_end": 1148476395.8,
                        "count": 0
                      },
                      {
                        "bin_start": 1148476395.8,
                        "bin_end": 1287178840.3999999,
                        "count": 0
                      },
                      {
                        "bin_start": 1287178840.3999999,
                        "bin_end": 1425881285,
                        "count": 2
                      }
                    ]
                  }
                },
                {
                  "name": "GDP per capita",
                  "dtype": "float64",
                  "stats": {
                    "unique_count": 10,
                    "nan_count": 0,
                    "min": "0.002492863122738153",
                    "max": "0.07612940243011235",
                    "histogram": [
                      {
                        "bin_start": 0.002492863122738153,
                        "bin_end": 0.009856517053475573,
                        "count": 2
                      },
                      {
                        "bin_start": 0.009856517053475573,
                        "bin_end": 0.017220170984212992,
                        "count": 1
                      },
                      {
                        "bin_start": 0.017220170984212992,
                        "bin_end": 0.024583824914950415,
                        "count": 0
                      },
                      {
                        "bin_start": 0.024583824914950415,
                        "bin_end": 0.031947478845687834,
                        "count": 0
                      },
                      {
                        "bin_start": 0.031947478845687834,
                        "bin_end": 0.03931113277642525,
                        "count": 2
                      },
                      {
                        "bin_start": 0.03931113277642525,
                        "bin_end": 0.04667478670716267,
                        "count": 1
                      },
                      {
                        "bin_start": 0.04667478670716267,
                        "bin_end": 0.05403844063790009,
                        "count": 2
                      },
                      {
                        "bin_start": 0.05403844063790009,
                        "bin_end": 0.06140209456863751,
                        "count": 1
                      },
                      {
                        "bin_start": 0.06140209456863751,
                        "bin_end": 0.06876574849937493,
                        "count": 0
                      },
                      {
                        "bin_start": 0.06876574849937493,
                        "bin_end": 0.07612940243011235,
                        "count": 1
                      }
                    ]
                  }
                },
                {
                  "name": "_deepnote_index_column",
                  "dtype": "int64"
                }
              ],
              "rows": [
                {
                  "Country": "United States",
                  "GDP": "25346805",
                  "Population": "332943701",
                  "GDP per capita": "0.07612940243011235",
                  "_deepnote_index_column": "0"
                },
                {
                  "Country": "China",
                  "GDP": "19911593",
                  "Population": "1425881285",
                  "GDP per capita": "0.013964411490259513",
                  "_deepnote_index_column": "1"
                },
                {
                  "Country": "Japan",
                  "GDP": "4912147",
                  "Population": "125502000",
                  "GDP per capita": "0.03913998980095935",
                  "_deepnote_index_column": "2"
                },
                {
                  "Country": "Germany",
                  "GDP": "4256540",
                  "Population": "83695430",
                  "GDP per capita": "0.05085749604249599",
                  "_deepnote_index_column": "3"
                },
                {
                  "Country": "India",
                  "GDP": "3534743",
                  "Population": "1417945080",
                  "GDP per capita": "0.002492863122738153",
                  "_deepnote_index_column": "4"
                },
                {
                  "Country": "United Kingdom",
                  "GDP": "3376003",
                  "Population": "67081234",
                  "GDP per capita": "0.050327085515451314",
                  "_deepnote_index_column": "5"
                },
                {
                  "Country": "France",
                  "GDP": "2936702",
                  "Population": "67874000",
                  "GDP per capita": "0.04326696525915667",
                  "_deepnote_index_column": "6"
                },
                {
                  "Country": "Canada",
                  "GDP": "2221218",
                  "Population": "38856839",
                  "GDP per capita": "0.05716414554462343",
                  "_deepnote_index_column": "7"
                },
                {
                  "Country": "Italy",
                  "GDP": "2058330",
                  "Population": "58906742",
                  "GDP per capita": "0.034942180302553486",
                  "_deepnote_index_column": "8"
                },
                {
                  "Country": "Brazil",
                  "GDP": "1833274",
                  "Population": "214956683",
                  "GDP per capita": "0.00852857410346251",
                  "_deepnote_index_column": "9"
                }
              ]
            },
            "text/plain": "          Country       GDP  Population  GDP per capita\n0   United States  25346805   332943701        0.076129\n1           China  19911593  1425881285        0.013964\n2           Japan   4912147   125502000        0.039140\n3         Germany   4256540    83695430        0.050857\n4           India   3534743  1417945080        0.002493\n5  United Kingdom   3376003    67081234        0.050327\n6          France   2936702    67874000        0.043267\n7          Canada   2221218    38856839        0.057164\n8           Italy   2058330    58906742        0.034942\n9          Brazil   1833274   214956683        0.008529",
            "text/html": "<div>\n<style scoped>\n    .dataframe tbody tr th:only-of-type {\n        vertical-align: middle;\n    }\n\n    .dataframe tbody tr th {\n        vertical-align: top;\n    }\n\n    .dataframe thead th {\n        text-align: right;\n    }\n</style>\n<table border=\"1\" class=\"dataframe\">\n  <thead>\n    <tr style=\"text-align: right;\">\n      <th></th>\n      <th>Country</th>\n      <th>GDP</th>\n      <th>Population</th>\n      <th>GDP per capita</th>\n    </tr>\n  </thead>\n  <tbody>\n    <tr>\n      <th>0</th>\n      <td>United States</td>\n      <td>25346805</td>\n      <td>332943701</td>\n      <td>0.076129</td>\n    </tr>\n    <tr>\n      <th>1</th>\n      <td>China</td>\n      <td>19911593</td>\n      <td>1425881285</td>\n      <td>0.013964</td>\n    </tr>\n    <tr>\n      <th>2</th>\n      <td>Japan</td>\n      <td>4912147</td>\n      <td>125502000</td>\n      <td>0.039140</td>\n    </tr>\n    <tr>\n      <th>3</th>\n      <td>Germany</td>\n      <td>4256540</td>\n      <td>83695430</td>\n      <td>0.050857</td>\n    </tr>\n    <tr>\n      <th>4</th>\n      <td>India</td>\n      <td>3534743</td>\n      <td>1417945080</td>\n      <td>0.002493</td>\n    </tr>\n    <tr>\n      <th>5</th>\n      <td>United Kingdom</td>\n      <td>3376003</td>\n      <td>67081234</td>\n      <td>0.050327</td>\n    </tr>\n    <tr>\n      <th>6</th>\n      <td>France</td>\n      <td>2936702</td>\n      <td>67874000</td>\n      <td>0.043267</td>\n    </tr>\n    <tr>\n      <th>7</th>\n      <td>Canada</td>\n      <td>2221218</td>\n      <td>38856839</td>\n      <td>0.057164</td>\n    </tr>\n    <tr>\n      <th>8</th>\n      <td>Italy</td>\n      <td>2058330</td>\n      <td>58906742</td>\n      <td>0.034942</td>\n    </tr>\n    <tr>\n      <th>9</th>\n      <td>Brazil</td>\n      <td>1833274</td>\n      <td>214956683</td>\n      <td>0.008529</td>\n    </tr>\n  </tbody>\n</table>\n</div>"
          },
          "metadata": {}
        }
      ],
      "execution_count": null
    },
    {
      "cell_type": "markdown",
      "source": [
        "## Data Understanding"
      ],
      "metadata": {
        "id": "JAUUqFVHP6cG",
        "cell_id": "47d96a9b5b0b4cbaad0424acb7715c0e",
        "deepnote_cell_height": 69.59375,
        "deepnote_app_coordinates": {
          "h": 5,
          "w": 12,
          "x": 0,
          "y": 583
        },
        "deepnote_cell_type": "markdown"
      }
    },
    {
      "cell_type": "markdown",
      "source": [
        "### Task: With the three numeric columns, show the statsitics of each:\n",
        "\n",
        "\n",
        "1.   Count\n",
        "1.   Max\n",
        "1.   Min\n",
        "1.   Mean\n",
        "1.   Median\n",
        "1.   Quantiles\n",
        "1.   25% Quantile\n",
        "1.   50% Quantile\n",
        "1.   75% QUantile\n",
        "1.   Variance\n",
        "1.   Std\n",
        "1.   Total\n",
        "\n",
        "\n"
      ],
      "metadata": {
        "id": "WVUmFsR6P6cH",
        "cell_id": "0541ef19aa11418194fe46f20a0967ff",
        "deepnote_cell_height": 425.390625,
        "deepnote_app_coordinates": {
          "h": 5,
          "w": 12,
          "x": 0,
          "y": 589
        },
        "deepnote_cell_type": "markdown"
      }
    },
    {
      "cell_type": "code",
      "source": [
        "df.describe()"
      ],
      "metadata": {
        "id": "dWBRXImGP6cH",
        "cell_id": "d95e2d34cf5e46598d8191b50133fc56",
        "source_hash": "f88152d9",
        "execution_start": 1664740595172,
        "execution_millis": 25,
        "deepnote_app_coordinates": {
          "h": 5,
          "w": 12,
          "x": 0,
          "y": 595
        },
        "deepnote_to_be_reexecuted": false,
        "deepnote_app_is_code_hidden": true,
        "deepnote_cell_type": "code",
        "outputId": "44c6c7f9-953c-4ac9-a363-96442c13f94a"
      },
      "outputs": [
        {
          "output_type": "execute_result",
          "execution_count": 45,
          "data": {
            "application/vnd.deepnote.dataframe.v3+json": {
              "column_count": 3,
              "row_count": 8,
              "columns": [
                {
                  "name": "GDP",
                  "dtype": "float64",
                  "stats": {
                    "unique_count": 8,
                    "nan_count": 0,
                    "min": "10.0",
                    "max": "25346805.0",
                    "histogram": [
                      {
                        "bin_start": 10,
                        "bin_end": 2534689.5,
                        "count": 3
                      },
                      {
                        "bin_start": 2534689.5,
                        "bin_end": 5069369,
                        "count": 2
                      },
                      {
                        "bin_start": 5069369,
                        "bin_end": 7604048.5,
                        "count": 1
                      },
                      {
                        "bin_start": 7604048.5,
                        "bin_end": 10138728,
                        "count": 1
                      },
                      {
                        "bin_start": 10138728,
                        "bin_end": 12673407.5,
                        "count": 0
                      },
                      {
                        "bin_start": 12673407.5,
                        "bin_end": 15208087,
                        "count": 0
                      },
                      {
                        "bin_start": 15208087,
                        "bin_end": 17742766.5,
                        "count": 0
                      },
                      {
                        "bin_start": 17742766.5,
                        "bin_end": 20277446,
                        "count": 0
                      },
                      {
                        "bin_start": 20277446,
                        "bin_end": 22812125.5,
                        "count": 0
                      },
                      {
                        "bin_start": 22812125.5,
                        "bin_end": 25346805,
                        "count": 1
                      }
                    ]
                  }
                },
                {
                  "name": "Population",
                  "dtype": "float64",
                  "stats": {
                    "unique_count": 8,
                    "nan_count": 0,
                    "min": "10.0",
                    "max": "1425881285.0",
                    "histogram": [
                      {
                        "bin_start": 10,
                        "bin_end": 142588137.5,
                        "count": 4
                      },
                      {
                        "bin_start": 142588137.5,
                        "bin_end": 285176265,
                        "count": 0
                      },
                      {
                        "bin_start": 285176265,
                        "bin_end": 427764392.5,
                        "count": 2
                      },
                      {
                        "bin_start": 427764392.5,
                        "bin_end": 570352520,
                        "count": 1
                      },
                      {
                        "bin_start": 570352520,
                        "bin_end": 712940647.5,
                        "count": 0
                      },
                      {
                        "bin_start": 712940647.5,
                        "bin_end": 855528775,
                        "count": 0
                      },
                      {
                        "bin_start": 855528775,
                        "bin_end": 998116902.5,
                        "count": 0
                      },
                      {
                        "bin_start": 998116902.5,
                        "bin_end": 1140705030,
                        "count": 0
                      },
                      {
                        "bin_start": 1140705030,
                        "bin_end": 1283293157.5,
                        "count": 0
                      },
                      {
                        "bin_start": 1283293157.5,
                        "bin_end": 1425881285,
                        "count": 1
                      }
                    ]
                  }
                },
                {
                  "name": "GDP per capita",
                  "dtype": "float64",
                  "stats": {
                    "unique_count": 8,
                    "nan_count": 0,
                    "min": "0.002492863122738153",
                    "max": "10.0",
                    "histogram": [
                      {
                        "bin_start": 0.002492863122738153,
                        "bin_end": 1.0022435768104643,
                        "count": 7
                      },
                      {
                        "bin_start": 1.0022435768104643,
                        "bin_end": 2.0019942904981907,
                        "count": 0
                      },
                      {
                        "bin_start": 2.0019942904981907,
                        "bin_end": 3.0017450041859166,
                        "count": 0
                      },
                      {
                        "bin_start": 3.0017450041859166,
                        "bin_end": 4.0014957178736426,
                        "count": 0
                      },
                      {
                        "bin_start": 4.0014957178736426,
                        "bin_end": 5.001246431561369,
                        "count": 0
                      },
                      {
                        "bin_start": 5.001246431561369,
                        "bin_end": 6.0009971452490944,
                        "count": 0
                      },
                      {
                        "bin_start": 6.0009971452490944,
                        "bin_end": 7.000747858936821,
                        "count": 0
                      },
                      {
                        "bin_start": 7.000747858936821,
                        "bin_end": 8.000498572624547,
                        "count": 0
                      },
                      {
                        "bin_start": 8.000498572624547,
                        "bin_end": 9.000249286312274,
                        "count": 0
                      },
                      {
                        "bin_start": 9.000249286312274,
                        "bin_end": 10,
                        "count": 1
                      }
                    ]
                  }
                },
                {
                  "name": "_deepnote_index_column",
                  "dtype": "object"
                }
              ],
              "rows": [
                {
                  "GDP": "10.0",
                  "Population": "10.0",
                  "GDP per capita": "10.0",
                  "_deepnote_index_column": "count"
                },
                {
                  "GDP": "7038735.5",
                  "Population": "383364299.4",
                  "GDP per capita": "0.03768131136118128",
                  "_deepnote_index_column": "mean"
                },
                {
                  "GDP": "8371836.744955225",
                  "Population": "554569304.2447789",
                  "GDP per capita": "0.02329233162111208",
                  "_deepnote_index_column": "std"
                },
                {
                  "GDP": "1833274.0",
                  "Population": "38856839.0",
                  "GDP per capita": "0.002492863122738153",
                  "_deepnote_index_column": "min"
                },
                {
                  "GDP": "2400089.0",
                  "Population": "67279425.5",
                  "GDP per capita": "0.019208853693333007",
                  "_deepnote_index_column": "25%"
                },
                {
                  "GDP": "3455373.0",
                  "Population": "104598715.0",
                  "GDP per capita": "0.041203477530058014",
                  "_deepnote_index_column": "50%"
                },
                {
                  "GDP": "4748245.25",
                  "Population": "303446946.5",
                  "GDP per capita": "0.05072489341073482",
                  "_deepnote_index_column": "75%"
                },
                {
                  "GDP": "25346805.0",
                  "Population": "1425881285.0",
                  "GDP per capita": "0.07612940243011235",
                  "_deepnote_index_column": "max"
                }
              ]
            },
            "text/plain": "                GDP    Population  GDP per capita\ncount  1.000000e+01  1.000000e+01       10.000000\nmean   7.038736e+06  3.833643e+08        0.037681\nstd    8.371837e+06  5.545693e+08        0.023292\nmin    1.833274e+06  3.885684e+07        0.002493\n25%    2.400089e+06  6.727943e+07        0.019209\n50%    3.455373e+06  1.045987e+08        0.041203\n75%    4.748245e+06  3.034469e+08        0.050725\nmax    2.534680e+07  1.425881e+09        0.076129",
            "text/html": "<div>\n<style scoped>\n    .dataframe tbody tr th:only-of-type {\n        vertical-align: middle;\n    }\n\n    .dataframe tbody tr th {\n        vertical-align: top;\n    }\n\n    .dataframe thead th {\n        text-align: right;\n    }\n</style>\n<table border=\"1\" class=\"dataframe\">\n  <thead>\n    <tr style=\"text-align: right;\">\n      <th></th>\n      <th>GDP</th>\n      <th>Population</th>\n      <th>GDP per capita</th>\n    </tr>\n  </thead>\n  <tbody>\n    <tr>\n      <th>count</th>\n      <td>1.000000e+01</td>\n      <td>1.000000e+01</td>\n      <td>10.000000</td>\n    </tr>\n    <tr>\n      <th>mean</th>\n      <td>7.038736e+06</td>\n      <td>3.833643e+08</td>\n      <td>0.037681</td>\n    </tr>\n    <tr>\n      <th>std</th>\n      <td>8.371837e+06</td>\n      <td>5.545693e+08</td>\n      <td>0.023292</td>\n    </tr>\n    <tr>\n      <th>min</th>\n      <td>1.833274e+06</td>\n      <td>3.885684e+07</td>\n      <td>0.002493</td>\n    </tr>\n    <tr>\n      <th>25%</th>\n      <td>2.400089e+06</td>\n      <td>6.727943e+07</td>\n      <td>0.019209</td>\n    </tr>\n    <tr>\n      <th>50%</th>\n      <td>3.455373e+06</td>\n      <td>1.045987e+08</td>\n      <td>0.041203</td>\n    </tr>\n    <tr>\n      <th>75%</th>\n      <td>4.748245e+06</td>\n      <td>3.034469e+08</td>\n      <td>0.050725</td>\n    </tr>\n    <tr>\n      <th>max</th>\n      <td>2.534680e+07</td>\n      <td>1.425881e+09</td>\n      <td>0.076129</td>\n    </tr>\n  </tbody>\n</table>\n</div>"
          },
          "metadata": {}
        }
      ],
      "execution_count": null
    },
    {
      "cell_type": "code",
      "source": [
        "df.median()"
      ],
      "metadata": {
        "id": "Z17C7WwOQcGI",
        "cell_id": "5476ee3e74114ec8adf5a8bd4f66a675",
        "source_hash": "d52a5e33",
        "execution_start": 1664740595194,
        "execution_millis": 16,
        "deepnote_app_coordinates": {
          "h": 5,
          "w": 12,
          "x": 0,
          "y": 601
        },
        "deepnote_to_be_reexecuted": false,
        "deepnote_app_is_code_hidden": true,
        "deepnote_cell_type": "code",
        "outputId": "37fb8eaf-df6b-4d3d-a389-d8490c3ec665"
      },
      "outputs": [
        {
          "output_type": "execute_result",
          "execution_count": 46,
          "data": {
            "text/plain": "GDP               3.455373e+06\nPopulation        1.045987e+08\nGDP per capita    4.120348e-02\ndtype: float64"
          },
          "metadata": {}
        }
      ],
      "execution_count": null
    },
    {
      "cell_type": "code",
      "source": [
        "df.var()"
      ],
      "metadata": {
        "id": "5j4zOU8HPtwa",
        "cell_id": "4330bbb4f9c645d7a63b385543f607f0",
        "source_hash": "bf4f01e3",
        "execution_start": 1664740595209,
        "execution_millis": 9,
        "deepnote_app_coordinates": {
          "h": 5,
          "w": 12,
          "x": 0,
          "y": 607
        },
        "deepnote_to_be_reexecuted": false,
        "deepnote_app_is_code_hidden": true,
        "deepnote_cell_type": "code",
        "outputId": "219b09bc-97a1-4f5b-d148-104132e0ae2a"
      },
      "outputs": [
        {
          "output_type": "execute_result",
          "execution_count": 47,
          "data": {
            "text/plain": "GDP               7.008765e+13\nPopulation        3.075471e+17\nGDP per capita    5.425327e-04\ndtype: float64"
          },
          "metadata": {}
        }
      ],
      "execution_count": null
    },
    {
      "cell_type": "code",
      "source": [
        "df.sum()"
      ],
      "metadata": {
        "id": "h2PdIBcNPxvV",
        "cell_id": "dd080ded30614312a0f88c70cedb27e8",
        "source_hash": "4f2bcb55",
        "execution_start": 1664740595217,
        "execution_millis": 4,
        "deepnote_app_coordinates": {
          "h": 5,
          "w": 12,
          "x": 0,
          "y": 613
        },
        "deepnote_to_be_reexecuted": false,
        "deepnote_app_is_code_hidden": true,
        "deepnote_cell_type": "code",
        "outputId": "c1bbd815-68d3-4cfc-e617-0e1bc328caa8"
      },
      "outputs": [
        {
          "output_type": "execute_result",
          "execution_count": 48,
          "data": {
            "text/plain": "Country           United StatesChinaJapanGermanyIndiaUnited King...\nGDP                                                        70387355\nPopulation                                               3833642994\nGDP per capita                                             0.376813\ndtype: object"
          },
          "metadata": {}
        }
      ],
      "execution_count": null
    }
  ],
  "nbformat": 4,
  "nbformat_minor": 0,
  "metadata": {
    "colab": {
      "provenance": [],
      "toc_visible": true
    },
    "deepnote": {},
    "kernelspec": {
      "name": "python3",
      "display_name": "Python 3"
    },
    "language_info": {
      "name": "python"
    },
    "deepnote_app_layout": "article",
    "deepnote_notebook_id": "ea0a78f5003e420b9294549d2de07cb3",
    "deepnote_execution_queue": [],
    "deepnote_persisted_session": {
      "createdAt": "2022-10-02T20:31:46.191Z"
    }
  }
}